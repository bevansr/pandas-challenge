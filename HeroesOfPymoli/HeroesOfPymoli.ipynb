{
 "cells": [
  {
   "cell_type": "markdown",
   "metadata": {},
   "source": [
    "### Note\n",
    "* Instructions have been included for each segment. You do not have to follow them exactly, but they are included to help you think through the steps."
   ]
  },
  {
   "cell_type": "code",
   "execution_count": 3,
   "metadata": {},
   "outputs": [],
   "source": [
    "# Dependencies and Setup\n",
    "import pandas as pd\n",
    "\n",
    "# File to Load (Remember to Change These)\n",
    "file_to_load = \"Resources/purchase_data.csv\"\n",
    "\n",
    "# Read Purchasing File and store into Pandas data frame\n",
    "purchase_data = pd.read_csv(file_to_load)"
   ]
  },
  {
   "cell_type": "markdown",
   "metadata": {},
   "source": [
    "## Player Count"
   ]
  },
  {
   "cell_type": "markdown",
   "metadata": {},
   "source": [
    "* Display the total number of players\n"
   ]
  },
  {
   "cell_type": "code",
   "execution_count": 4,
   "metadata": {},
   "outputs": [
    {
     "data": {
      "text/html": [
       "<div>\n",
       "<style scoped>\n",
       "    .dataframe tbody tr th:only-of-type {\n",
       "        vertical-align: middle;\n",
       "    }\n",
       "\n",
       "    .dataframe tbody tr th {\n",
       "        vertical-align: top;\n",
       "    }\n",
       "\n",
       "    .dataframe thead th {\n",
       "        text-align: right;\n",
       "    }\n",
       "</style>\n",
       "<table border=\"1\" class=\"dataframe\">\n",
       "  <thead>\n",
       "    <tr style=\"text-align: right;\">\n",
       "      <th></th>\n",
       "      <th>Total Players</th>\n",
       "    </tr>\n",
       "  </thead>\n",
       "  <tbody>\n",
       "    <tr>\n",
       "      <th>0</th>\n",
       "      <td>576</td>\n",
       "    </tr>\n",
       "  </tbody>\n",
       "</table>\n",
       "</div>"
      ],
      "text/plain": [
       "   Total Players\n",
       "0            576"
      ]
     },
     "execution_count": 4,
     "metadata": {},
     "output_type": "execute_result"
    }
   ],
   "source": [
    "players = purchase_data.SN.nunique()\n",
    "players_df = pd.DataFrame({\"Total Players\": [players]})\n",
    "players_df"
   ]
  },
  {
   "cell_type": "markdown",
   "metadata": {},
   "source": [
    "## Purchasing Analysis (Total)"
   ]
  },
  {
   "cell_type": "markdown",
   "metadata": {},
   "source": [
    "* Run basic calculations to obtain number of unique items, average price, etc.\n",
    "\n",
    "\n",
    "* Create a summary data frame to hold the results\n",
    "\n",
    "\n",
    "* Optional: give the displayed data cleaner formatting\n",
    "\n",
    "\n",
    "* Display the summary data frame\n"
   ]
  },
  {
   "cell_type": "code",
   "execution_count": 5,
   "metadata": {
    "scrolled": true
   },
   "outputs": [
    {
     "data": {
      "text/html": [
       "<style  type=\"text/css\" >\n",
       "</style><table id=\"T_57e4859a_c0cf_11ea_8543_c85b76047163\" ><thead>    <tr>        <th class=\"col_heading level0 col0\" >Number of Unique Items</th>        <th class=\"col_heading level0 col1\" >Average Price</th>        <th class=\"col_heading level0 col2\" >Number of Purchases</th>        <th class=\"col_heading level0 col3\" >Total Revenue</th>    </tr></thead><tbody>\n",
       "                <tr>\n",
       "                                <td id=\"T_57e4859a_c0cf_11ea_8543_c85b76047163row0_col0\" class=\"data row0 col0\" >179</td>\n",
       "                        <td id=\"T_57e4859a_c0cf_11ea_8543_c85b76047163row0_col1\" class=\"data row0 col1\" >$3.05</td>\n",
       "                        <td id=\"T_57e4859a_c0cf_11ea_8543_c85b76047163row0_col2\" class=\"data row0 col2\" >780</td>\n",
       "                        <td id=\"T_57e4859a_c0cf_11ea_8543_c85b76047163row0_col3\" class=\"data row0 col3\" >$2,379.77</td>\n",
       "            </tr>\n",
       "    </tbody></table>"
      ],
      "text/plain": [
       "<pandas.io.formats.style.Styler at 0x2c4110f1708>"
      ]
     },
     "execution_count": 5,
     "metadata": {},
     "output_type": "execute_result"
    }
   ],
   "source": [
    "# Run basic calculations to obtain number of unique items, average price, etc.\n",
    "purchases = purchase_data.SN.count()\n",
    "revenue = purchase_data.Price.sum()\n",
    "avg_price = round(revenue / purchases,2)\n",
    "unique_items = purchase_data[\"Item Name\"].nunique()\n",
    "\n",
    "# Create a summary data frame to hold the results\n",
    "summary = {\"Number of Unique Items\": [unique_items], \"Average Price\": [avg_price], \"Number of Purchases\": [purchases], \"Total Revenue\": [revenue]}\n",
    "summary_df = pd.DataFrame(summary)\n",
    "\n",
    "# Display the summary data frame\n",
    "summary_df.style.format({\"Average Price\": \"${:,.2f}\", \"Total Revenue\": \"${:,.2f}\"}).hide_index()"
   ]
  },
  {
   "cell_type": "markdown",
   "metadata": {},
   "source": [
    "## Gender Demographics"
   ]
  },
  {
   "cell_type": "markdown",
   "metadata": {},
   "source": [
    "* Percentage and Count of Male Players\n",
    "\n",
    "\n",
    "* Percentage and Count of Female Players\n",
    "\n",
    "\n",
    "* Percentage and Count of Other / Non-Disclosed\n",
    "\n",
    "\n"
   ]
  },
  {
   "cell_type": "code",
   "execution_count": 6,
   "metadata": {},
   "outputs": [
    {
     "data": {
      "text/html": [
       "<style  type=\"text/css\" >\n",
       "</style><table id=\"T_5a0cd8a4_c0cf_11ea_b298_c85b76047163\" ><thead>    <tr>        <th class=\"blank level0\" ></th>        <th class=\"col_heading level0 col0\" >Total Count</th>        <th class=\"col_heading level0 col1\" >Percentage of Players</th>    </tr>    <tr>        <th class=\"index_name level0\" >Gender</th>        <th class=\"blank\" ></th>        <th class=\"blank\" ></th>    </tr></thead><tbody>\n",
       "                <tr>\n",
       "                        <th id=\"T_5a0cd8a4_c0cf_11ea_b298_c85b76047163level0_row0\" class=\"row_heading level0 row0\" >Male</th>\n",
       "                        <td id=\"T_5a0cd8a4_c0cf_11ea_b298_c85b76047163row0_col0\" class=\"data row0 col0\" >484</td>\n",
       "                        <td id=\"T_5a0cd8a4_c0cf_11ea_b298_c85b76047163row0_col1\" class=\"data row0 col1\" >84.03%</td>\n",
       "            </tr>\n",
       "            <tr>\n",
       "                        <th id=\"T_5a0cd8a4_c0cf_11ea_b298_c85b76047163level0_row1\" class=\"row_heading level0 row1\" >Female</th>\n",
       "                        <td id=\"T_5a0cd8a4_c0cf_11ea_b298_c85b76047163row1_col0\" class=\"data row1 col0\" >81</td>\n",
       "                        <td id=\"T_5a0cd8a4_c0cf_11ea_b298_c85b76047163row1_col1\" class=\"data row1 col1\" >14.06%</td>\n",
       "            </tr>\n",
       "            <tr>\n",
       "                        <th id=\"T_5a0cd8a4_c0cf_11ea_b298_c85b76047163level0_row2\" class=\"row_heading level0 row2\" >Other / Non-Disclosed</th>\n",
       "                        <td id=\"T_5a0cd8a4_c0cf_11ea_b298_c85b76047163row2_col0\" class=\"data row2 col0\" >11</td>\n",
       "                        <td id=\"T_5a0cd8a4_c0cf_11ea_b298_c85b76047163row2_col1\" class=\"data row2 col1\" >1.91%</td>\n",
       "            </tr>\n",
       "    </tbody></table>"
      ],
      "text/plain": [
       "<pandas.io.formats.style.Styler at 0x2c41111f148>"
      ]
     },
     "execution_count": 6,
     "metadata": {},
     "output_type": "execute_result"
    }
   ],
   "source": [
    "# Group by Gender and count unique SN values\n",
    "gender_df =  purchase_data.groupby(['Gender'])[\"SN\"].nunique()\n",
    "\n",
    "# Create data frame for gender count summary\n",
    "gender_count = pd.DataFrame({\"Total Count\": gender_df})\n",
    "\n",
    "# Sort descending by count\n",
    "gender_count = gender_count.sort_values(\"Total Count\", ascending=False)\n",
    "\n",
    "# Calculate percent of total for each Gender\n",
    "gender_percent = gender_count[\"Total Count\"] / players\n",
    "\n",
    "# Add percentage column to df\n",
    "gender_count[\"Percentage of Players\"] = gender_percent\n",
    "\n",
    "# Display the summary data frame\n",
    "gender_count.style.format({\"Percentage of Players\": \"{:.2%}\"})"
   ]
  },
  {
   "cell_type": "markdown",
   "metadata": {},
   "source": [
    "\n",
    "## Purchasing Analysis (Gender)"
   ]
  },
  {
   "cell_type": "markdown",
   "metadata": {},
   "source": [
    "* Run basic calculations to obtain purchase count, avg. purchase price, avg. purchase total per person etc. by gender\n",
    "\n",
    "\n",
    "\n",
    "\n",
    "* Create a summary data frame to hold the results\n",
    "\n",
    "\n",
    "* Optional: give the displayed data cleaner formatting\n",
    "\n",
    "\n",
    "* Display the summary data frame"
   ]
  },
  {
   "cell_type": "code",
   "execution_count": 7,
   "metadata": {},
   "outputs": [
    {
     "data": {
      "text/html": [
       "<style  type=\"text/css\" >\n",
       "</style><table id=\"T_5bacc4c0_c0cf_11ea_9c63_c85b76047163\" ><thead>    <tr>        <th class=\"blank level0\" ></th>        <th class=\"col_heading level0 col0\" >Purchase Count</th>        <th class=\"col_heading level0 col1\" >Average Purchase Price</th>        <th class=\"col_heading level0 col2\" >Total Purchase Value</th>        <th class=\"col_heading level0 col3\" >Avg Total Purchase per Person</th>    </tr>    <tr>        <th class=\"index_name level0\" >Gender</th>        <th class=\"blank\" ></th>        <th class=\"blank\" ></th>        <th class=\"blank\" ></th>        <th class=\"blank\" ></th>    </tr></thead><tbody>\n",
       "                <tr>\n",
       "                        <th id=\"T_5bacc4c0_c0cf_11ea_9c63_c85b76047163level0_row0\" class=\"row_heading level0 row0\" >Female</th>\n",
       "                        <td id=\"T_5bacc4c0_c0cf_11ea_9c63_c85b76047163row0_col0\" class=\"data row0 col0\" >113</td>\n",
       "                        <td id=\"T_5bacc4c0_c0cf_11ea_9c63_c85b76047163row0_col1\" class=\"data row0 col1\" >$3.20</td>\n",
       "                        <td id=\"T_5bacc4c0_c0cf_11ea_9c63_c85b76047163row0_col2\" class=\"data row0 col2\" >$361.94</td>\n",
       "                        <td id=\"T_5bacc4c0_c0cf_11ea_9c63_c85b76047163row0_col3\" class=\"data row0 col3\" >$4.47</td>\n",
       "            </tr>\n",
       "            <tr>\n",
       "                        <th id=\"T_5bacc4c0_c0cf_11ea_9c63_c85b76047163level0_row1\" class=\"row_heading level0 row1\" >Male</th>\n",
       "                        <td id=\"T_5bacc4c0_c0cf_11ea_9c63_c85b76047163row1_col0\" class=\"data row1 col0\" >652</td>\n",
       "                        <td id=\"T_5bacc4c0_c0cf_11ea_9c63_c85b76047163row1_col1\" class=\"data row1 col1\" >$3.02</td>\n",
       "                        <td id=\"T_5bacc4c0_c0cf_11ea_9c63_c85b76047163row1_col2\" class=\"data row1 col2\" >$1,967.64</td>\n",
       "                        <td id=\"T_5bacc4c0_c0cf_11ea_9c63_c85b76047163row1_col3\" class=\"data row1 col3\" >$4.07</td>\n",
       "            </tr>\n",
       "            <tr>\n",
       "                        <th id=\"T_5bacc4c0_c0cf_11ea_9c63_c85b76047163level0_row2\" class=\"row_heading level0 row2\" >Other / Non-Disclosed</th>\n",
       "                        <td id=\"T_5bacc4c0_c0cf_11ea_9c63_c85b76047163row2_col0\" class=\"data row2 col0\" >15</td>\n",
       "                        <td id=\"T_5bacc4c0_c0cf_11ea_9c63_c85b76047163row2_col1\" class=\"data row2 col1\" >$3.35</td>\n",
       "                        <td id=\"T_5bacc4c0_c0cf_11ea_9c63_c85b76047163row2_col2\" class=\"data row2 col2\" >$50.19</td>\n",
       "                        <td id=\"T_5bacc4c0_c0cf_11ea_9c63_c85b76047163row2_col3\" class=\"data row2 col3\" >$4.56</td>\n",
       "            </tr>\n",
       "    </tbody></table>"
      ],
      "text/plain": [
       "<pandas.io.formats.style.Styler at 0x2c40ee637c8>"
      ]
     },
     "execution_count": 7,
     "metadata": {},
     "output_type": "execute_result"
    }
   ],
   "source": [
    "# Run basic calculations to obtain purchase count, avg. purchase price, avg. purchase total per person etc. by gender\n",
    "gender_group = purchase_data.groupby([\"Gender\"])\n",
    "gender_purchases = gender_group[\"Purchase ID\"].count()\n",
    "gender_total_value = gender_group[\"Price\"].sum()\n",
    "gender_avg_purchase = gender_group[\"Price\"].mean()\n",
    "purchase_data_sn = purchase_data.groupby([\"Gender\", \"SN\"])\n",
    "gender_sn_group = pd.DataFrame(purchase_data_sn[\"Price\"].sum())\n",
    "gender_avg_person = gender_sn_group.groupby([\"Gender\"])[\"Price\"].mean()\n",
    "\n",
    "# Create a summary data frame to hold the results\n",
    "gender_summary_df = pd.DataFrame({\"Purchase Count\": gender_purchases, \"Average Purchase Price\": gender_avg_purchase, \"Total Purchase Value\": gender_total_value, \"Avg Total Purchase per Person\": gender_avg_person})\n",
    "\n",
    "# Display the summary data frame\n",
    "gender_summary_df.style.format({\"Average Purchase Price\": \"${:,.2f}\", \"Total Purchase Value\": \"${:,.2f}\", \"Avg Total Purchase per Person\": \"${:,.2f}\"})"
   ]
  },
  {
   "cell_type": "markdown",
   "metadata": {},
   "source": [
    "## Age Demographics"
   ]
  },
  {
   "cell_type": "markdown",
   "metadata": {},
   "source": [
    "* Establish bins for ages\n",
    "\n",
    "\n",
    "* Categorize the existing players using the age bins. Hint: use pd.cut()\n",
    "\n",
    "\n",
    "* Calculate the numbers and percentages by age group\n",
    "\n",
    "\n",
    "* Create a summary data frame to hold the results\n",
    "\n",
    "\n",
    "* Optional: round the percentage column to two decimal points\n",
    "\n",
    "\n",
    "* Display Age Demographics Table\n"
   ]
  },
  {
   "cell_type": "code",
   "execution_count": 8,
   "metadata": {},
   "outputs": [
    {
     "data": {
      "text/html": [
       "<style  type=\"text/css\" >\n",
       "</style><table id=\"T_5ddcd66e_c0cf_11ea_aed1_c85b76047163\" ><thead>    <tr>        <th class=\"blank level0\" ></th>        <th class=\"col_heading level0 col0\" >Total Count</th>        <th class=\"col_heading level0 col1\" >Percentage of Players</th>    </tr>    <tr>        <th class=\"index_name level0\" >Age Ranges</th>        <th class=\"blank\" ></th>        <th class=\"blank\" ></th>    </tr></thead><tbody>\n",
       "                <tr>\n",
       "                        <th id=\"T_5ddcd66e_c0cf_11ea_aed1_c85b76047163level0_row0\" class=\"row_heading level0 row0\" ><10</th>\n",
       "                        <td id=\"T_5ddcd66e_c0cf_11ea_aed1_c85b76047163row0_col0\" class=\"data row0 col0\" >17</td>\n",
       "                        <td id=\"T_5ddcd66e_c0cf_11ea_aed1_c85b76047163row0_col1\" class=\"data row0 col1\" >2.95%</td>\n",
       "            </tr>\n",
       "            <tr>\n",
       "                        <th id=\"T_5ddcd66e_c0cf_11ea_aed1_c85b76047163level0_row1\" class=\"row_heading level0 row1\" >10-14</th>\n",
       "                        <td id=\"T_5ddcd66e_c0cf_11ea_aed1_c85b76047163row1_col0\" class=\"data row1 col0\" >22</td>\n",
       "                        <td id=\"T_5ddcd66e_c0cf_11ea_aed1_c85b76047163row1_col1\" class=\"data row1 col1\" >3.82%</td>\n",
       "            </tr>\n",
       "            <tr>\n",
       "                        <th id=\"T_5ddcd66e_c0cf_11ea_aed1_c85b76047163level0_row2\" class=\"row_heading level0 row2\" >15-19</th>\n",
       "                        <td id=\"T_5ddcd66e_c0cf_11ea_aed1_c85b76047163row2_col0\" class=\"data row2 col0\" >107</td>\n",
       "                        <td id=\"T_5ddcd66e_c0cf_11ea_aed1_c85b76047163row2_col1\" class=\"data row2 col1\" >18.58%</td>\n",
       "            </tr>\n",
       "            <tr>\n",
       "                        <th id=\"T_5ddcd66e_c0cf_11ea_aed1_c85b76047163level0_row3\" class=\"row_heading level0 row3\" >20-24</th>\n",
       "                        <td id=\"T_5ddcd66e_c0cf_11ea_aed1_c85b76047163row3_col0\" class=\"data row3 col0\" >258</td>\n",
       "                        <td id=\"T_5ddcd66e_c0cf_11ea_aed1_c85b76047163row3_col1\" class=\"data row3 col1\" >44.79%</td>\n",
       "            </tr>\n",
       "            <tr>\n",
       "                        <th id=\"T_5ddcd66e_c0cf_11ea_aed1_c85b76047163level0_row4\" class=\"row_heading level0 row4\" >25-29</th>\n",
       "                        <td id=\"T_5ddcd66e_c0cf_11ea_aed1_c85b76047163row4_col0\" class=\"data row4 col0\" >77</td>\n",
       "                        <td id=\"T_5ddcd66e_c0cf_11ea_aed1_c85b76047163row4_col1\" class=\"data row4 col1\" >13.37%</td>\n",
       "            </tr>\n",
       "            <tr>\n",
       "                        <th id=\"T_5ddcd66e_c0cf_11ea_aed1_c85b76047163level0_row5\" class=\"row_heading level0 row5\" >30-34</th>\n",
       "                        <td id=\"T_5ddcd66e_c0cf_11ea_aed1_c85b76047163row5_col0\" class=\"data row5 col0\" >52</td>\n",
       "                        <td id=\"T_5ddcd66e_c0cf_11ea_aed1_c85b76047163row5_col1\" class=\"data row5 col1\" >9.03%</td>\n",
       "            </tr>\n",
       "            <tr>\n",
       "                        <th id=\"T_5ddcd66e_c0cf_11ea_aed1_c85b76047163level0_row6\" class=\"row_heading level0 row6\" >35-39</th>\n",
       "                        <td id=\"T_5ddcd66e_c0cf_11ea_aed1_c85b76047163row6_col0\" class=\"data row6 col0\" >31</td>\n",
       "                        <td id=\"T_5ddcd66e_c0cf_11ea_aed1_c85b76047163row6_col1\" class=\"data row6 col1\" >5.38%</td>\n",
       "            </tr>\n",
       "            <tr>\n",
       "                        <th id=\"T_5ddcd66e_c0cf_11ea_aed1_c85b76047163level0_row7\" class=\"row_heading level0 row7\" >40+</th>\n",
       "                        <td id=\"T_5ddcd66e_c0cf_11ea_aed1_c85b76047163row7_col0\" class=\"data row7 col0\" >12</td>\n",
       "                        <td id=\"T_5ddcd66e_c0cf_11ea_aed1_c85b76047163row7_col1\" class=\"data row7 col1\" >2.08%</td>\n",
       "            </tr>\n",
       "    </tbody></table>"
      ],
      "text/plain": [
       "<pandas.io.formats.style.Styler at 0x2c4110b6988>"
      ]
     },
     "execution_count": 8,
     "metadata": {},
     "output_type": "execute_result"
    }
   ],
   "source": [
    "# Establish bins for ages\n",
    "bins = [0,9,14,19,24,29,34,39,100]\n",
    "group_names = [\"<10\", \"10-14\", \"15-19\", \"20-24\", \"25-29\", \"30-34\", \"35-39\", \"40+\"]\n",
    "\n",
    "# Categorize the existing players using the age bins. Hint: use pd.cut()\n",
    "purchase_data[\"Age Ranges\"] = pd.cut(purchase_data[\"Age\"], bins, labels=group_names, include_lowest=False)\n",
    "\n",
    "# Calculate the numbers by age group\n",
    "age_range_players = purchase_data.groupby([\"Age Ranges\"])[\"SN\"].nunique()\n",
    "\n",
    "# Create a summary data frame to hold the results\n",
    "age_range_demographics = pd.DataFrame({\"Total Count\": age_range_players})\n",
    "\n",
    "# Calculate the percentages by age group\n",
    "age_total_players = age_range_demographics[\"Total Count\"].sum()\n",
    "age_percent_total_players = age_range_demographics[\"Total Count\"] / age_total_players\n",
    "\n",
    "# Add percentage column to summary data frame\n",
    "age_range_demographics[\"Percentage of Players\"] = age_percent_total_players\n",
    "\n",
    "# Display Age Demographics Table\n",
    "age_range_demographics.style.format({\"Percentage of Players\": \"{:.2%}\"})"
   ]
  },
  {
   "cell_type": "markdown",
   "metadata": {},
   "source": [
    "## Purchasing Analysis (Age)"
   ]
  },
  {
   "cell_type": "markdown",
   "metadata": {},
   "source": [
    "* Bin the purchase_data data frame by age\n",
    "\n",
    "\n",
    "* Run basic calculations to obtain purchase count, avg. purchase price, avg. purchase total per person etc. in the table below\n",
    "\n",
    "\n",
    "* Create a summary data frame to hold the results\n",
    "\n",
    "\n",
    "* Optional: give the displayed data cleaner formatting\n",
    "\n",
    "\n",
    "* Display the summary data frame"
   ]
  },
  {
   "cell_type": "code",
   "execution_count": 9,
   "metadata": {},
   "outputs": [
    {
     "data": {
      "text/html": [
       "<style  type=\"text/css\" >\n",
       "</style><table id=\"T_5fbca706_c0cf_11ea_b033_c85b76047163\" ><thead>    <tr>        <th class=\"blank level0\" ></th>        <th class=\"col_heading level0 col0\" >Purchase Count</th>        <th class=\"col_heading level0 col1\" >Average Purchase Price</th>        <th class=\"col_heading level0 col2\" >Total Purchase Value</th>        <th class=\"col_heading level0 col3\" >Avg Total Purchase per Person</th>    </tr>    <tr>        <th class=\"index_name level0\" >Age Ranges</th>        <th class=\"blank\" ></th>        <th class=\"blank\" ></th>        <th class=\"blank\" ></th>        <th class=\"blank\" ></th>    </tr></thead><tbody>\n",
       "                <tr>\n",
       "                        <th id=\"T_5fbca706_c0cf_11ea_b033_c85b76047163level0_row0\" class=\"row_heading level0 row0\" ><10</th>\n",
       "                        <td id=\"T_5fbca706_c0cf_11ea_b033_c85b76047163row0_col0\" class=\"data row0 col0\" >23</td>\n",
       "                        <td id=\"T_5fbca706_c0cf_11ea_b033_c85b76047163row0_col1\" class=\"data row0 col1\" >$3.35</td>\n",
       "                        <td id=\"T_5fbca706_c0cf_11ea_b033_c85b76047163row0_col2\" class=\"data row0 col2\" >$77.13</td>\n",
       "                        <td id=\"T_5fbca706_c0cf_11ea_b033_c85b76047163row0_col3\" class=\"data row0 col3\" >$4.54</td>\n",
       "            </tr>\n",
       "            <tr>\n",
       "                        <th id=\"T_5fbca706_c0cf_11ea_b033_c85b76047163level0_row1\" class=\"row_heading level0 row1\" >10-14</th>\n",
       "                        <td id=\"T_5fbca706_c0cf_11ea_b033_c85b76047163row1_col0\" class=\"data row1 col0\" >28</td>\n",
       "                        <td id=\"T_5fbca706_c0cf_11ea_b033_c85b76047163row1_col1\" class=\"data row1 col1\" >$2.96</td>\n",
       "                        <td id=\"T_5fbca706_c0cf_11ea_b033_c85b76047163row1_col2\" class=\"data row1 col2\" >$82.78</td>\n",
       "                        <td id=\"T_5fbca706_c0cf_11ea_b033_c85b76047163row1_col3\" class=\"data row1 col3\" >$3.76</td>\n",
       "            </tr>\n",
       "            <tr>\n",
       "                        <th id=\"T_5fbca706_c0cf_11ea_b033_c85b76047163level0_row2\" class=\"row_heading level0 row2\" >15-19</th>\n",
       "                        <td id=\"T_5fbca706_c0cf_11ea_b033_c85b76047163row2_col0\" class=\"data row2 col0\" >136</td>\n",
       "                        <td id=\"T_5fbca706_c0cf_11ea_b033_c85b76047163row2_col1\" class=\"data row2 col1\" >$3.04</td>\n",
       "                        <td id=\"T_5fbca706_c0cf_11ea_b033_c85b76047163row2_col2\" class=\"data row2 col2\" >$412.89</td>\n",
       "                        <td id=\"T_5fbca706_c0cf_11ea_b033_c85b76047163row2_col3\" class=\"data row2 col3\" >$3.86</td>\n",
       "            </tr>\n",
       "            <tr>\n",
       "                        <th id=\"T_5fbca706_c0cf_11ea_b033_c85b76047163level0_row3\" class=\"row_heading level0 row3\" >20-24</th>\n",
       "                        <td id=\"T_5fbca706_c0cf_11ea_b033_c85b76047163row3_col0\" class=\"data row3 col0\" >365</td>\n",
       "                        <td id=\"T_5fbca706_c0cf_11ea_b033_c85b76047163row3_col1\" class=\"data row3 col1\" >$3.05</td>\n",
       "                        <td id=\"T_5fbca706_c0cf_11ea_b033_c85b76047163row3_col2\" class=\"data row3 col2\" >$1,114.06</td>\n",
       "                        <td id=\"T_5fbca706_c0cf_11ea_b033_c85b76047163row3_col3\" class=\"data row3 col3\" >$4.32</td>\n",
       "            </tr>\n",
       "            <tr>\n",
       "                        <th id=\"T_5fbca706_c0cf_11ea_b033_c85b76047163level0_row4\" class=\"row_heading level0 row4\" >25-29</th>\n",
       "                        <td id=\"T_5fbca706_c0cf_11ea_b033_c85b76047163row4_col0\" class=\"data row4 col0\" >101</td>\n",
       "                        <td id=\"T_5fbca706_c0cf_11ea_b033_c85b76047163row4_col1\" class=\"data row4 col1\" >$2.90</td>\n",
       "                        <td id=\"T_5fbca706_c0cf_11ea_b033_c85b76047163row4_col2\" class=\"data row4 col2\" >$293.00</td>\n",
       "                        <td id=\"T_5fbca706_c0cf_11ea_b033_c85b76047163row4_col3\" class=\"data row4 col3\" >$3.81</td>\n",
       "            </tr>\n",
       "            <tr>\n",
       "                        <th id=\"T_5fbca706_c0cf_11ea_b033_c85b76047163level0_row5\" class=\"row_heading level0 row5\" >30-34</th>\n",
       "                        <td id=\"T_5fbca706_c0cf_11ea_b033_c85b76047163row5_col0\" class=\"data row5 col0\" >73</td>\n",
       "                        <td id=\"T_5fbca706_c0cf_11ea_b033_c85b76047163row5_col1\" class=\"data row5 col1\" >$2.93</td>\n",
       "                        <td id=\"T_5fbca706_c0cf_11ea_b033_c85b76047163row5_col2\" class=\"data row5 col2\" >$214.00</td>\n",
       "                        <td id=\"T_5fbca706_c0cf_11ea_b033_c85b76047163row5_col3\" class=\"data row5 col3\" >$4.12</td>\n",
       "            </tr>\n",
       "            <tr>\n",
       "                        <th id=\"T_5fbca706_c0cf_11ea_b033_c85b76047163level0_row6\" class=\"row_heading level0 row6\" >35-39</th>\n",
       "                        <td id=\"T_5fbca706_c0cf_11ea_b033_c85b76047163row6_col0\" class=\"data row6 col0\" >41</td>\n",
       "                        <td id=\"T_5fbca706_c0cf_11ea_b033_c85b76047163row6_col1\" class=\"data row6 col1\" >$3.60</td>\n",
       "                        <td id=\"T_5fbca706_c0cf_11ea_b033_c85b76047163row6_col2\" class=\"data row6 col2\" >$147.67</td>\n",
       "                        <td id=\"T_5fbca706_c0cf_11ea_b033_c85b76047163row6_col3\" class=\"data row6 col3\" >$4.76</td>\n",
       "            </tr>\n",
       "            <tr>\n",
       "                        <th id=\"T_5fbca706_c0cf_11ea_b033_c85b76047163level0_row7\" class=\"row_heading level0 row7\" >40+</th>\n",
       "                        <td id=\"T_5fbca706_c0cf_11ea_b033_c85b76047163row7_col0\" class=\"data row7 col0\" >13</td>\n",
       "                        <td id=\"T_5fbca706_c0cf_11ea_b033_c85b76047163row7_col1\" class=\"data row7 col1\" >$2.94</td>\n",
       "                        <td id=\"T_5fbca706_c0cf_11ea_b033_c85b76047163row7_col2\" class=\"data row7 col2\" >$38.24</td>\n",
       "                        <td id=\"T_5fbca706_c0cf_11ea_b033_c85b76047163row7_col3\" class=\"data row7 col3\" >$3.19</td>\n",
       "            </tr>\n",
       "    </tbody></table>"
      ],
      "text/plain": [
       "<pandas.io.formats.style.Styler at 0x2c411f54a48>"
      ]
     },
     "execution_count": 9,
     "metadata": {},
     "output_type": "execute_result"
    }
   ],
   "source": [
    "# Bin the purchase_data data frame by age\n",
    "bins = [0,9,14,19,24,29,34,39,100]\n",
    "group_names = [\"<10\", \"10-14\", \"15-19\", \"20-24\", \"25-29\", \"30-34\", \"35-39\", \"40+\"]\n",
    "purchase_data[\"Age Ranges\"] = pd.cut(purchase_data[\"Age\"], bins, labels=group_names, include_lowest=False)\n",
    "\n",
    "# Run basic calculations to obtain purchase count, avg. purchase price, avg. purchase total per person etc\n",
    "age_group = purchase_data.groupby([\"Age Ranges\"])\n",
    "age_purchase_count = age_group[\"Purchase ID\"].count()\n",
    "age_avg_purchase = age_group[\"Price\"].mean()\n",
    "age_total_value = age_group[\"Price\"].sum()\n",
    "age_avg_person = age_total_value / age_range_players\n",
    "\n",
    "# Create a summary data frame to hold the results\n",
    "age_purchase_summary_df = pd.DataFrame({\"Purchase Count\": age_purchase_count, \"Average Purchase Price\": age_avg_purchase, \"Total Purchase Value\": age_total_value, \"Avg Total Purchase per Person\": age_avg_person})\n",
    "\n",
    "# Display the summary data frame\n",
    "age_purchase_summary_df.style.format({\"Average Purchase Price\": \"${:,.2f}\", \"Total Purchase Value\": \"${:,.2f}\", \"Avg Total Purchase per Person\": \"${:,.2f}\"})"
   ]
  },
  {
   "cell_type": "markdown",
   "metadata": {},
   "source": [
    "## Top Spenders"
   ]
  },
  {
   "cell_type": "markdown",
   "metadata": {},
   "source": [
    "* Run basic calculations to obtain the results in the table below\n",
    "\n",
    "\n",
    "* Create a summary data frame to hold the results\n",
    "\n",
    "\n",
    "* Sort the total purchase value column in descending order\n",
    "\n",
    "\n",
    "* Optional: give the displayed data cleaner formatting\n",
    "\n",
    "\n",
    "* Display a preview of the summary data frame\n",
    "\n"
   ]
  },
  {
   "cell_type": "code",
   "execution_count": 10,
   "metadata": {},
   "outputs": [
    {
     "data": {
      "text/html": [
       "<style  type=\"text/css\" >\n",
       "</style><table id=\"T_615f3470_c0cf_11ea_8972_c85b76047163\" ><thead>    <tr>        <th class=\"blank level0\" ></th>        <th class=\"col_heading level0 col0\" >Purchase Count</th>        <th class=\"col_heading level0 col1\" >Average Purchase Price</th>        <th class=\"col_heading level0 col2\" >Total Purchase Value</th>    </tr>    <tr>        <th class=\"index_name level0\" >SN</th>        <th class=\"blank\" ></th>        <th class=\"blank\" ></th>        <th class=\"blank\" ></th>    </tr></thead><tbody>\n",
       "                <tr>\n",
       "                        <th id=\"T_615f3470_c0cf_11ea_8972_c85b76047163level0_row0\" class=\"row_heading level0 row0\" >Lisosia93</th>\n",
       "                        <td id=\"T_615f3470_c0cf_11ea_8972_c85b76047163row0_col0\" class=\"data row0 col0\" >5</td>\n",
       "                        <td id=\"T_615f3470_c0cf_11ea_8972_c85b76047163row0_col1\" class=\"data row0 col1\" >$3.79</td>\n",
       "                        <td id=\"T_615f3470_c0cf_11ea_8972_c85b76047163row0_col2\" class=\"data row0 col2\" >$18.96</td>\n",
       "            </tr>\n",
       "            <tr>\n",
       "                        <th id=\"T_615f3470_c0cf_11ea_8972_c85b76047163level0_row1\" class=\"row_heading level0 row1\" >Idastidru52</th>\n",
       "                        <td id=\"T_615f3470_c0cf_11ea_8972_c85b76047163row1_col0\" class=\"data row1 col0\" >4</td>\n",
       "                        <td id=\"T_615f3470_c0cf_11ea_8972_c85b76047163row1_col1\" class=\"data row1 col1\" >$3.86</td>\n",
       "                        <td id=\"T_615f3470_c0cf_11ea_8972_c85b76047163row1_col2\" class=\"data row1 col2\" >$15.45</td>\n",
       "            </tr>\n",
       "            <tr>\n",
       "                        <th id=\"T_615f3470_c0cf_11ea_8972_c85b76047163level0_row2\" class=\"row_heading level0 row2\" >Chamjask73</th>\n",
       "                        <td id=\"T_615f3470_c0cf_11ea_8972_c85b76047163row2_col0\" class=\"data row2 col0\" >3</td>\n",
       "                        <td id=\"T_615f3470_c0cf_11ea_8972_c85b76047163row2_col1\" class=\"data row2 col1\" >$4.61</td>\n",
       "                        <td id=\"T_615f3470_c0cf_11ea_8972_c85b76047163row2_col2\" class=\"data row2 col2\" >$13.83</td>\n",
       "            </tr>\n",
       "            <tr>\n",
       "                        <th id=\"T_615f3470_c0cf_11ea_8972_c85b76047163level0_row3\" class=\"row_heading level0 row3\" >Iral74</th>\n",
       "                        <td id=\"T_615f3470_c0cf_11ea_8972_c85b76047163row3_col0\" class=\"data row3 col0\" >4</td>\n",
       "                        <td id=\"T_615f3470_c0cf_11ea_8972_c85b76047163row3_col1\" class=\"data row3 col1\" >$3.40</td>\n",
       "                        <td id=\"T_615f3470_c0cf_11ea_8972_c85b76047163row3_col2\" class=\"data row3 col2\" >$13.62</td>\n",
       "            </tr>\n",
       "            <tr>\n",
       "                        <th id=\"T_615f3470_c0cf_11ea_8972_c85b76047163level0_row4\" class=\"row_heading level0 row4\" >Iskadarya95</th>\n",
       "                        <td id=\"T_615f3470_c0cf_11ea_8972_c85b76047163row4_col0\" class=\"data row4 col0\" >3</td>\n",
       "                        <td id=\"T_615f3470_c0cf_11ea_8972_c85b76047163row4_col1\" class=\"data row4 col1\" >$4.37</td>\n",
       "                        <td id=\"T_615f3470_c0cf_11ea_8972_c85b76047163row4_col2\" class=\"data row4 col2\" >$13.10</td>\n",
       "            </tr>\n",
       "    </tbody></table>"
      ],
      "text/plain": [
       "<pandas.io.formats.style.Styler at 0x2c411f62b88>"
      ]
     },
     "execution_count": 10,
     "metadata": {},
     "output_type": "execute_result"
    }
   ],
   "source": [
    "# Run basic calculations to obtain results for Top Spenders summary df\n",
    "sn_group = purchase_data.groupby([\"SN\"])\n",
    "sn_purchase_count = sn_group[\"Purchase ID\"].count()\n",
    "sn_avg_price = sn_group[\"Price\"].mean()\n",
    "sn_total_price = sn_group[\"Price\"].sum()\n",
    "\n",
    "# Create a summary data frame to hold the results\n",
    "sn_summary_df = pd.DataFrame({\"Purchase Count\": sn_purchase_count, \"Average Purchase Price\": sn_avg_price, \"Total Purchase Value\": sn_total_price})\n",
    "\n",
    "# Sort the total purchase value column in descending order\n",
    "sn_summary_df = sn_summary_df.sort_values(\"Total Purchase Value\", ascending=False)\n",
    "\n",
    "# Display a preview of the summary data frame\n",
    "sn_summary_df.head().style.format({\"Average Purchase Price\": \"${:,.2f}\", \"Total Purchase Value\": \"${:,.2f}\"})"
   ]
  },
  {
   "cell_type": "markdown",
   "metadata": {},
   "source": [
    "## Most Popular Items"
   ]
  },
  {
   "cell_type": "markdown",
   "metadata": {},
   "source": [
    "* Retrieve the Item ID, Item Name, and Item Price columns\n",
    "\n",
    "\n",
    "* Group by Item ID and Item Name. Perform calculations to obtain purchase count, item price, and total purchase value\n",
    "\n",
    "\n",
    "* Create a summary data frame to hold the results\n",
    "\n",
    "\n",
    "* Sort the purchase count column in descending order\n",
    "\n",
    "\n",
    "* Optional: give the displayed data cleaner formatting\n",
    "\n",
    "\n",
    "* Display a preview of the summary data frame\n",
    "\n"
   ]
  },
  {
   "cell_type": "code",
   "execution_count": 11,
   "metadata": {},
   "outputs": [
    {
     "data": {
      "text/html": [
       "<style  type=\"text/css\" >\n",
       "</style><table id=\"T_6302180c_c0cf_11ea_85f1_c85b76047163\" ><thead>    <tr>        <th class=\"blank\" ></th>        <th class=\"blank level0\" ></th>        <th class=\"col_heading level0 col0\" >Purchase Count</th>        <th class=\"col_heading level0 col1\" >Item Price</th>        <th class=\"col_heading level0 col2\" >Total Purchase Value</th>    </tr>    <tr>        <th class=\"index_name level0\" >Item ID</th>        <th class=\"index_name level1\" >Item Name</th>        <th class=\"blank\" ></th>        <th class=\"blank\" ></th>        <th class=\"blank\" ></th>    </tr></thead><tbody>\n",
       "                <tr>\n",
       "                        <th id=\"T_6302180c_c0cf_11ea_85f1_c85b76047163level0_row0\" class=\"row_heading level0 row0\" >92</th>\n",
       "                        <th id=\"T_6302180c_c0cf_11ea_85f1_c85b76047163level1_row0\" class=\"row_heading level1 row0\" >Final Critic</th>\n",
       "                        <td id=\"T_6302180c_c0cf_11ea_85f1_c85b76047163row0_col0\" class=\"data row0 col0\" >13</td>\n",
       "                        <td id=\"T_6302180c_c0cf_11ea_85f1_c85b76047163row0_col1\" class=\"data row0 col1\" >$4.61</td>\n",
       "                        <td id=\"T_6302180c_c0cf_11ea_85f1_c85b76047163row0_col2\" class=\"data row0 col2\" >$59.99</td>\n",
       "            </tr>\n",
       "            <tr>\n",
       "                        <th id=\"T_6302180c_c0cf_11ea_85f1_c85b76047163level0_row1\" class=\"row_heading level0 row1\" >178</th>\n",
       "                        <th id=\"T_6302180c_c0cf_11ea_85f1_c85b76047163level1_row1\" class=\"row_heading level1 row1\" >Oathbreaker, Last Hope of the Breaking Storm</th>\n",
       "                        <td id=\"T_6302180c_c0cf_11ea_85f1_c85b76047163row1_col0\" class=\"data row1 col0\" >12</td>\n",
       "                        <td id=\"T_6302180c_c0cf_11ea_85f1_c85b76047163row1_col1\" class=\"data row1 col1\" >$4.23</td>\n",
       "                        <td id=\"T_6302180c_c0cf_11ea_85f1_c85b76047163row1_col2\" class=\"data row1 col2\" >$50.76</td>\n",
       "            </tr>\n",
       "            <tr>\n",
       "                        <th id=\"T_6302180c_c0cf_11ea_85f1_c85b76047163level0_row2\" class=\"row_heading level0 row2\" >145</th>\n",
       "                        <th id=\"T_6302180c_c0cf_11ea_85f1_c85b76047163level1_row2\" class=\"row_heading level1 row2\" >Fiery Glass Crusader</th>\n",
       "                        <td id=\"T_6302180c_c0cf_11ea_85f1_c85b76047163row2_col0\" class=\"data row2 col0\" >9</td>\n",
       "                        <td id=\"T_6302180c_c0cf_11ea_85f1_c85b76047163row2_col1\" class=\"data row2 col1\" >$4.58</td>\n",
       "                        <td id=\"T_6302180c_c0cf_11ea_85f1_c85b76047163row2_col2\" class=\"data row2 col2\" >$41.22</td>\n",
       "            </tr>\n",
       "            <tr>\n",
       "                        <th id=\"T_6302180c_c0cf_11ea_85f1_c85b76047163level0_row3\" class=\"row_heading level0 row3\" >132</th>\n",
       "                        <th id=\"T_6302180c_c0cf_11ea_85f1_c85b76047163level1_row3\" class=\"row_heading level1 row3\" >Persuasion</th>\n",
       "                        <td id=\"T_6302180c_c0cf_11ea_85f1_c85b76047163row3_col0\" class=\"data row3 col0\" >9</td>\n",
       "                        <td id=\"T_6302180c_c0cf_11ea_85f1_c85b76047163row3_col1\" class=\"data row3 col1\" >$3.22</td>\n",
       "                        <td id=\"T_6302180c_c0cf_11ea_85f1_c85b76047163row3_col2\" class=\"data row3 col2\" >$28.99</td>\n",
       "            </tr>\n",
       "            <tr>\n",
       "                        <th id=\"T_6302180c_c0cf_11ea_85f1_c85b76047163level0_row4\" class=\"row_heading level0 row4\" >108</th>\n",
       "                        <th id=\"T_6302180c_c0cf_11ea_85f1_c85b76047163level1_row4\" class=\"row_heading level1 row4\" >Extraction, Quickblade Of Trembling Hands</th>\n",
       "                        <td id=\"T_6302180c_c0cf_11ea_85f1_c85b76047163row4_col0\" class=\"data row4 col0\" >9</td>\n",
       "                        <td id=\"T_6302180c_c0cf_11ea_85f1_c85b76047163row4_col1\" class=\"data row4 col1\" >$3.53</td>\n",
       "                        <td id=\"T_6302180c_c0cf_11ea_85f1_c85b76047163row4_col2\" class=\"data row4 col2\" >$31.77</td>\n",
       "            </tr>\n",
       "    </tbody></table>"
      ],
      "text/plain": [
       "<pandas.io.formats.style.Styler at 0x2c411f3de48>"
      ]
     },
     "execution_count": 11,
     "metadata": {},
     "output_type": "execute_result"
    }
   ],
   "source": [
    "# Retrieve the Item ID, Item Name, and Item Price columns\n",
    "popular_df = purchase_data[[\"Item ID\", \"Item Name\", \"Price\"]]\n",
    "\n",
    "# Group by Item ID and Item Name. Perform calculations to obtain purchase count, item price, and total purchase value\n",
    "item_group = popular_df.groupby([\"Item ID\", \"Item Name\"])\n",
    "item_purchase_count = item_group[\"Item ID\"].count()\n",
    "item_total_value = item_group[\"Price\"].sum()\n",
    "item_price = item_total_value / item_purchase_count\n",
    "\n",
    "# Create a summary data frame to hold the results\n",
    "item_summary_df = pd.DataFrame({\"Purchase Count\": item_purchase_count, \"Item Price\": item_price, \"Total Purchase Value\": item_total_value})\n",
    "\n",
    "# Sort the purchase count column in descending order\n",
    "item_summary_df = item_summary_df.sort_values(\"Purchase Count\", ascending=False)\n",
    "\n",
    "# Display a preview of the summary data frame\n",
    "item_summary_df.head().style.format({\"Item Price\": \"${:,.2f}\", \"Total Purchase Value\": \"${:,.2f}\"})"
   ]
  },
  {
   "cell_type": "markdown",
   "metadata": {},
   "source": [
    "## Most Profitable Items"
   ]
  },
  {
   "cell_type": "markdown",
   "metadata": {},
   "source": [
    "* Sort the above table by total purchase value in descending order\n",
    "\n",
    "\n",
    "* Optional: give the displayed data cleaner formatting\n",
    "\n",
    "\n",
    "* Display a preview of the data frame\n",
    "\n"
   ]
  },
  {
   "cell_type": "code",
   "execution_count": 12,
   "metadata": {
    "scrolled": true
   },
   "outputs": [
    {
     "data": {
      "text/html": [
       "<style  type=\"text/css\" >\n",
       "</style><table id=\"T_64e0a3ee_c0cf_11ea_9677_c85b76047163\" ><thead>    <tr>        <th class=\"blank\" ></th>        <th class=\"blank level0\" ></th>        <th class=\"col_heading level0 col0\" >Purchase Count</th>        <th class=\"col_heading level0 col1\" >Item Price</th>        <th class=\"col_heading level0 col2\" >Total Purchase Value</th>    </tr>    <tr>        <th class=\"index_name level0\" >Item ID</th>        <th class=\"index_name level1\" >Item Name</th>        <th class=\"blank\" ></th>        <th class=\"blank\" ></th>        <th class=\"blank\" ></th>    </tr></thead><tbody>\n",
       "                <tr>\n",
       "                        <th id=\"T_64e0a3ee_c0cf_11ea_9677_c85b76047163level0_row0\" class=\"row_heading level0 row0\" >92</th>\n",
       "                        <th id=\"T_64e0a3ee_c0cf_11ea_9677_c85b76047163level1_row0\" class=\"row_heading level1 row0\" >Final Critic</th>\n",
       "                        <td id=\"T_64e0a3ee_c0cf_11ea_9677_c85b76047163row0_col0\" class=\"data row0 col0\" >13</td>\n",
       "                        <td id=\"T_64e0a3ee_c0cf_11ea_9677_c85b76047163row0_col1\" class=\"data row0 col1\" >$4.61</td>\n",
       "                        <td id=\"T_64e0a3ee_c0cf_11ea_9677_c85b76047163row0_col2\" class=\"data row0 col2\" >$59.99</td>\n",
       "            </tr>\n",
       "            <tr>\n",
       "                        <th id=\"T_64e0a3ee_c0cf_11ea_9677_c85b76047163level0_row1\" class=\"row_heading level0 row1\" >178</th>\n",
       "                        <th id=\"T_64e0a3ee_c0cf_11ea_9677_c85b76047163level1_row1\" class=\"row_heading level1 row1\" >Oathbreaker, Last Hope of the Breaking Storm</th>\n",
       "                        <td id=\"T_64e0a3ee_c0cf_11ea_9677_c85b76047163row1_col0\" class=\"data row1 col0\" >12</td>\n",
       "                        <td id=\"T_64e0a3ee_c0cf_11ea_9677_c85b76047163row1_col1\" class=\"data row1 col1\" >$4.23</td>\n",
       "                        <td id=\"T_64e0a3ee_c0cf_11ea_9677_c85b76047163row1_col2\" class=\"data row1 col2\" >$50.76</td>\n",
       "            </tr>\n",
       "            <tr>\n",
       "                        <th id=\"T_64e0a3ee_c0cf_11ea_9677_c85b76047163level0_row2\" class=\"row_heading level0 row2\" >82</th>\n",
       "                        <th id=\"T_64e0a3ee_c0cf_11ea_9677_c85b76047163level1_row2\" class=\"row_heading level1 row2\" >Nirvana</th>\n",
       "                        <td id=\"T_64e0a3ee_c0cf_11ea_9677_c85b76047163row2_col0\" class=\"data row2 col0\" >9</td>\n",
       "                        <td id=\"T_64e0a3ee_c0cf_11ea_9677_c85b76047163row2_col1\" class=\"data row2 col1\" >$4.90</td>\n",
       "                        <td id=\"T_64e0a3ee_c0cf_11ea_9677_c85b76047163row2_col2\" class=\"data row2 col2\" >$44.10</td>\n",
       "            </tr>\n",
       "            <tr>\n",
       "                        <th id=\"T_64e0a3ee_c0cf_11ea_9677_c85b76047163level0_row3\" class=\"row_heading level0 row3\" >145</th>\n",
       "                        <th id=\"T_64e0a3ee_c0cf_11ea_9677_c85b76047163level1_row3\" class=\"row_heading level1 row3\" >Fiery Glass Crusader</th>\n",
       "                        <td id=\"T_64e0a3ee_c0cf_11ea_9677_c85b76047163row3_col0\" class=\"data row3 col0\" >9</td>\n",
       "                        <td id=\"T_64e0a3ee_c0cf_11ea_9677_c85b76047163row3_col1\" class=\"data row3 col1\" >$4.58</td>\n",
       "                        <td id=\"T_64e0a3ee_c0cf_11ea_9677_c85b76047163row3_col2\" class=\"data row3 col2\" >$41.22</td>\n",
       "            </tr>\n",
       "            <tr>\n",
       "                        <th id=\"T_64e0a3ee_c0cf_11ea_9677_c85b76047163level0_row4\" class=\"row_heading level0 row4\" >103</th>\n",
       "                        <th id=\"T_64e0a3ee_c0cf_11ea_9677_c85b76047163level1_row4\" class=\"row_heading level1 row4\" >Singed Scalpel</th>\n",
       "                        <td id=\"T_64e0a3ee_c0cf_11ea_9677_c85b76047163row4_col0\" class=\"data row4 col0\" >8</td>\n",
       "                        <td id=\"T_64e0a3ee_c0cf_11ea_9677_c85b76047163row4_col1\" class=\"data row4 col1\" >$4.35</td>\n",
       "                        <td id=\"T_64e0a3ee_c0cf_11ea_9677_c85b76047163row4_col2\" class=\"data row4 col2\" >$34.80</td>\n",
       "            </tr>\n",
       "    </tbody></table>"
      ],
      "text/plain": [
       "<pandas.io.formats.style.Styler at 0x2c411f783c8>"
      ]
     },
     "execution_count": 12,
     "metadata": {},
     "output_type": "execute_result"
    }
   ],
   "source": [
    "# Sort the above table by total purchase value in descending order\n",
    "item_summary_profit_df = item_summary_df.sort_values(\"Total Purchase Value\", ascending=False)\n",
    "\n",
    "# Display a preview of the data frame\n",
    "item_summary_profit_df.head().style.format({\"Item Price\": \"${:,.2f}\", \"Total Purchase Value\": \"${:,.2f}\"})"
   ]
  },
  {
   "cell_type": "markdown",
   "metadata": {},
   "source": [
    "## Written Report - Include a written description with 3 observable trends based on the data"
   ]
  },
  {
   "cell_type": "markdown",
   "metadata": {},
   "source": [
    "* At least 84% of all players with purchases are male.\n",
    "\n",
    "* More than 75% of all purchases come from players between the ages of 15 and 29. 46.8% of all purchases came from users between the ages of 20 and 24. Avg age of user that made a purchase is about 22 years old.\n",
    "\n",
    "* The top 3 most popular items are also the top 3 most profitable items. A majority of the 179 unique items purchased have been purchased at least 3 times."
   ]
  },
  {
   "cell_type": "code",
   "execution_count": null,
   "metadata": {},
   "outputs": [],
   "source": []
  }
 ],
 "metadata": {
  "anaconda-cloud": {},
  "kernel_info": {
   "name": "python3"
  },
  "kernelspec": {
   "display_name": "Python 3",
   "language": "python",
   "name": "python3"
  },
  "language_info": {
   "codemirror_mode": {
    "name": "ipython",
    "version": 3
   },
   "file_extension": ".py",
   "mimetype": "text/x-python",
   "name": "python",
   "nbconvert_exporter": "python",
   "pygments_lexer": "ipython3",
   "version": "3.7.6"
  },
  "latex_envs": {
   "LaTeX_envs_menu_present": true,
   "autoclose": false,
   "autocomplete": true,
   "bibliofile": "biblio.bib",
   "cite_by": "apalike",
   "current_citInitial": 1,
   "eqLabelWithNumbers": true,
   "eqNumInitial": 1,
   "hotkeys": {
    "equation": "Ctrl-E",
    "itemize": "Ctrl-I"
   },
   "labels_anchors": false,
   "latex_user_defs": false,
   "report_style_numbering": false,
   "user_envs_cfg": false
  },
  "nteract": {
   "version": "0.2.0"
  }
 },
 "nbformat": 4,
 "nbformat_minor": 4
}
